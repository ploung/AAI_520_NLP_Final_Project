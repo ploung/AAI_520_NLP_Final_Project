{
 "cells": [
  {
   "cell_type": "markdown",
   "metadata": {},
   "source": [
    "- **Collect:** University of San Diego\n",
    "- **Course:** Natural Language Processing and GenAI (AAI-520)\n",
    "- **Final Project:** Financial Analysis Aystem Powered by Agentic AI\n",
    "- **Professor:** Kahila Mokhtari Jadid\n",
    "- **Team Members:** Pros Loung, Dennis Arpurayil, Divya Kamath \n",
    "- **GitHub Repository:** (https://github.com/ploung/AAI_520_NLP_Final_Project.git)\n",
    "\n"
   ]
  },
  {
   "cell_type": "markdown",
   "id": "bb5760db",
   "metadata": {},
   "source": [
    "### 1. Project Introduction"
   ]
  },
  {
   "cell_type": "markdown",
   "id": "1c5627a8",
   "metadata": {},
   "source": [
    "The project builds a real-world financial analysis system powered by agentic AI. That can reason, plan, and act, coordinating multiple specialized LLM agents to handle complex financial tasks end-to-end. Agentic AI moves beyond scripted flows: it routes tasks, critiques itself, and improves iteratively. The multi-agent stacks parse news, earnings, and market signals at scale."
   ]
  },
  {
   "cell_type": "markdown",
   "metadata": {},
   "source": [
    "## 2. System Architecture\n",
    "### 2.1 Agent Design\n",
    "- Orchestrator Agent  \n",
    "- Data Collection Agents (Yahoo Finance, NewsAPI, SEC)  \n",
    "- Analysis Agents (Sentiment, Fundamentals, Quant)  \n",
    "- Decision Agent  \n",
    "- Critic / Evaluator Agent  \n",
    "- Memory Module  \n",
    "\n",
    "### 2.2 Workflow Patterns\n",
    "- Prompt Chaining  \n",
    "- Routing  \n",
    "- Evaluator–Optimizer  \n",
    "\n",
    "*(Insert diagram of pipeline here)*"
   ]
  },
  {
   "cell_type": "markdown",
   "id": "8413d946",
   "metadata": {},
   "source": [
    "# 3. Set the enviroment"
   ]
  },
  {
   "cell_type": "code",
   "execution_count": null,
   "metadata": {},
   "outputs": [],
   "source": [
    "# Uncomment and run the following lines to install necessary packages\n",
    "#!pip install yfinance\n",
    "#!pip install openai\n",
    "#!pip install langchain \n",
    "#!pip install pandas \n",
    "#!pip install numpy \n",
    "#!pip install requests\n",
    "#!pip install langchain-community"
   ]
  },
  {
   "cell_type": "markdown",
   "id": "0ecd2219",
   "metadata": {},
   "source": [
    "# 4. Import libraries"
   ]
  },
  {
   "cell_type": "code",
   "execution_count": null,
   "id": "b0ffd5c2",
   "metadata": {},
   "outputs": [],
   "source": [
    "import yfinance as yf \n",
    "import requests\n",
    "#import pandas as pd\n",
    "#import matplotlib.pyplot as plt\n",
    "#from datetime import datetime, timedelta"
   ]
  },
  {
   "cell_type": "markdown",
   "id": "e06734b9",
   "metadata": {},
   "source": [
    "# 4. Design Financial Data Retrieval Agent"
   ]
  },
  {
   "cell_type": "code",
   "execution_count": null,
   "id": "dc877eed",
   "metadata": {},
   "outputs": [],
   "source": [
    "# Define stock list to fetch data for and analyze\n",
    "stock_list = [\"AAPL\", \"MSFT\", \"GOOGL\", \"AMZN\", \"TSLA\", \"NVDA\", \"META\"]\n",
    "\n",
    "# Create a function to fetch stock data\n",
    "def fetch_stock_data(symbol):\n",
    "    stock = yf.Ticker(symbol)\n",
    "    return stock.history(period=\"1mo\")\n",
    "\n",
    "# Example usage\n",
    "stock_result = list(map(fetch_stock_data, stock_list)) # Fetch data for all stocks in the list\n",
    "\n",
    "# Display stock history data\n",
    "for stock, stock_data in zip(stock_list, stock_result):\n",
    "    print(stock, stock_data.head(), \"\\n\")  # Print the first few rows of each stock's data\n"
   ]
  },
  {
   "cell_type": "markdown",
   "id": "31fb09e6",
   "metadata": {},
   "source": [
    "# 5. Design News Retrieval and Processing Agent"
   ]
  },
  {
   "cell_type": "code",
   "execution_count": null,
   "id": "17cc37ef",
   "metadata": {},
   "outputs": [],
   "source": [
    "import requests\n",
    "\n",
    "def get_news(symbol, api_key):\n",
    "    url = f\"https://newsapi.org/v2/everything?q={symbol}&apiKey={api_key}\"\n",
    "    response = requests.get(url)\n",
    "    articles = response.json()[\"articles\"]\n",
    "    return [article[\"content\"] for article in articles]\n",
    "\n",
    "def preprocess_news(news_list):\n",
    "    return [news.lower().replace(\"\\n\", \" \") for news in news_list]"
   ]
  },
  {
   "cell_type": "code",
   "execution_count": null,
   "id": "5ab85bca",
   "metadata": {},
   "outputs": [],
   "source": [
    "stock_news_dict = {}\n",
    "\n",
    "for symbol in stock_list:\n",
    "    raw_news = get_news(symbol, api_key)\n",
    "    cleaned_news = preprocess_news(raw_news)\n",
    "    stock_news_dict[symbol] = cleaned_news\n",
    "\n",
    "# Display the news articles for a specific stock symbol\n",
    "for symbol, news_items in stock_news_dict.items():\n",
    "    print(f\"\\nNews for {symbol}:\")\n",
    "    for i, item in enumerate(news_items[:3]):  # Show first 3 articles\n",
    "        print(f\"{i+1}. {item[:100]}...\")  # Preview first 100 characters"
   ]
  },
  {
   "cell_type": "code",
   "execution_count": 70,
   "id": "037a9b74",
   "metadata": {},
   "outputs": [
    {
     "name": "stdout",
     "output_type": "stream",
     "text": [
      "\n",
      "News for AAPL:\n",
      "1. let's turn now to our stock of the day. apple's new iphone 17 and iphone air are officially availabl...\n",
      " first up, markets are looking to start the week in the gr...\n",
      "3. yahoo finance's john hyland tracks tuesday's top moving stocks and biggest market stories in this ma...\n",
      "\n",
      "News for MSFT:\n",
      "1. big data refers to a vast and diverse collection of structured, unstructured and semi-structured dat...\n",
      "2. d-wave quantum qbts and rigetti computing rgti are stepping into the spotlight as speculative pure p...\n",
      "3. shares of voice ai technology company soundhound ai (nasdaq:soun) jumped 7% in the afternoon session...\n",
      "\n",
      "News for GOOGL:\n",
      "1. 08 september 2025, bavaria, munich: the google brand logo (logo, symbol, emblem) can be seen at the ...\n",
      "2. ionq (ionq) is a pioneering quantum computing company driving the industry forward with its advanced...\n",
      "3. the year 2025 has been tricky for google parent alphabet  (googl) and its patient investors, but the...\n",
      "\n",
      "News for AMZN:\n",
      "1. ankara, turkiye - november 14: in this photo illustration, logo of 'amazon' is displayed on a mobile...\n",
      "2. ionq (ionq) is a pioneering quantum computing company driving the industry forward with its advanced...\n",
      "...at the heart of todays market rally are seven companies worth more than most nations' gdp combined.\n",
      "\n",
      "News for TSLA:\n",
      "1. now time for some of today's trending tickers. we are watching shares of tesla, gold miners and mcdo...\n",
      "2. nio inc. nio has started sending its third-generation es8 electric suvs to delivery centers across c...\n",
      " apple intro...d a thinner iphone at an event this week.\n",
      "\n",
      "News for NVDA:\n",
      "1. this is the ft, riva saying china banning its companies from buying some of nvidia's chips. uh looki...\n",
      "2. wall street is narrowing in on must-watch tech giant nvidia (nvda) this week, as the $4 trillion sem...\n",
      "3. it's been a volatile year for shares of nvidia, with the stock plunging 31% to start the year before...\n",
      "\n",
      "News for META:\n",
      " the legendary filmmaker and meta cto andrew bosworth talk abou...\n",
      " the horizon engine powers better graphics for metas horizon wo...\n",
      " youll be able to try on (and buy) meta ray-ban display on sept...\n"
     ]
    }
   ],
   "source": [
    "stock_news_dict = []\n",
    "\n",
    "for symbol in stock_list:\n",
    "    raw_news = get_news(symbol, api_key)\n",
    "    cleaned_news = preprocess_news(raw_news)\n",
    "    stock_news_dict.append((symbol, cleaned_news))\n",
    "\n",
    "# Display the news articles for a specific stock symbol\n",
    "for symbol, news_items in stock_news_dict:\n",
    "    print(f\"\\nNews for {symbol}:\")\n",
    "    for i, item in enumerate(news_items[:3]):  # Show first 3 articles\n",
    "        print(f\"{i+1}. {item[:100]}...\")  # Preview first 100 characters"
   ]
  },
  {
   "cell_type": "markdown",
   "id": "036445b7",
   "metadata": {},
   "source": [
    "# 6. Prompt Chaining"
   ]
  },
  {
   "cell_type": "code",
   "execution_count": null,
   "id": "a7483f91",
   "metadata": {},
   "outputs": [],
   "source": [
    "from langchain.chains import LLMChain\n",
    "from langchain.llms import OpenAI\n",
    "from langchain.prompts import PromptTemplate\n",
    "openai_llm = OpenAI(openai_api_key=\"YOUR_API_KEY\")  # Replace with your actual OpenAI API key\n",
    "\n",
    "template = PromptTemplate(input_variables=[\"text\"], template=\"Classify this financial news: {text}\")\n",
    "# chain = LLMChain(prompt=template, llm=your_llm)\n",
    "chain = LLMChain(prompt=template, llm=openai_llm)  # Replace with actual LLM instance\n",
    "\n",
    "def classify_news(news_list):\n",
    "    return [chain.run(text=news) for news in news_list]\n",
    "\n",
    "#classified_news = classify_news(preprocess_news(get_news(\"AAPL\", \"YOUR_NEWSAPI_KEY\")))  # Replace with your actual NewsAPI key"
   ]
  },
  {
   "cell_type": "markdown",
   "id": "cc648efa",
   "metadata": {},
   "source": [
    "# Example: Fetch and preprocess news\n",
    "news_sample = [\n",
    "    {\"title\": \"Apple beats earnings expectations\", \"text\": \"Apple reported higher than expected Q2 earnings...\"}\n",
    "]\n",
    "\n",
    "def preprocess_news(news):\n",
    "    return [n[\"text\"].lower() for n in news]\n",
    "\n",
    "processed = preprocess_news(news_sample)\n",
    "processed"
   ]
  },
  {
   "cell_type": "code",
   "execution_count": null,
   "id": "6d8b58ff",
   "metadata": {},
   "outputs": [],
   "source": []
  },
  {
   "cell_type": "markdown",
   "id": "727058cf",
   "metadata": {},
   "source": [
    "# 6. Routing Logic Agent"
   ]
  },
  {
   "cell_type": "code",
   "execution_count": null,
   "id": "d36f01c4",
   "metadata": {},
   "outputs": [],
   "source": [
    "def route_content(classification):\n",
    "    if \"earnings\" in classification:\n",
    "        return \"Earnings Analyzer\"\n",
    "    elif \"market\" in classification:\n",
    "        return \"Market Analyzer\"\n",
    "    else:\n",
    "        return \"General News Analyzer\""
   ]
  },
  {
   "cell_type": "markdown",
   "id": "9fef6c47",
   "metadata": {},
   "source": [
    "# 6. Evaluator Optimizer"
   ]
  },
  {
   "cell_type": "code",
   "execution_count": null,
   "id": "22166021",
   "metadata": {},
   "outputs": [],
   "source": [
    "def evaluate_output(output):\n",
    "    score = len(output)  # Placeholder for actual scoring logic\n",
    "    return score\n",
    "\n",
    "def optimize_output(output, score):\n",
    "    if score < 100:\n",
    "        return output + \" [Refined]\"\n",
    "    return output"
   ]
  },
  {
   "cell_type": "markdown",
   "id": "f1df770a",
   "metadata": {},
   "source": [
    "# 7. Memory Across Runs"
   ]
  },
  {
   "cell_type": "code",
   "execution_count": null,
   "id": "3a4ee21a",
   "metadata": {},
   "outputs": [],
   "source": [
    "memory_log = []\n",
    "\n",
    "def store_memory(note):\n",
    "    memory_log.append(note)\n",
    "\n",
    "def retrieve_memory():\n",
    "    return memory_log[-3:]  # Last 3 notes"
   ]
  },
  {
   "cell_type": "markdown",
   "metadata": {},
   "source": [
    "## 4. Agent Functions\n",
    "We implement the four required capabilities:\n",
    "\n",
    "1. **Planning** – agent outlines research steps.  \n",
    "2. **Dynamic Tool Use** – APIs, datasets.  \n",
    "3. **Self-Reflection** – evaluation of outputs.  \n",
    "4. **Learning Across Runs** – simple memory store."
   ]
  },
  {
   "cell_type": "code",
   "execution_count": null,
   "metadata": {},
   "outputs": [],
   "source": [
    "# Example: Orchestrator planning steps for a ticker\n",
    "def plan_research(symbol):\n",
    "    steps = [\n",
    "        f\"Fetch price history for {symbol}\",\n",
    "        f\"Fetch latest news for {symbol}\",\n",
    "        \"Run sentiment analysis on news\",\n",
    "        \"Compute technical signals\",\n",
    "        \"Generate investment recommendation\",\n",
    "        \"Critique and refine output\"\n",
    "    ]\n",
    "    return steps\n",
    "\n",
    "plan_research(\"AAPL\")"
   ]
  },
  {
   "cell_type": "markdown",
   "metadata": {},
   "source": [
    "## 5. Workflow Pattern 1 – Prompt Chaining\n",
    "Pipeline: News → Preprocess → Classify → Extract → Summarize"
   ]
  },
  {
   "cell_type": "code",
   "execution_count": null,
   "metadata": {},
   "outputs": [],
   "source": [
    "# Example: Fetch and preprocess news\n",
    "news_sample = [\n",
    "    {\"title\": \"Apple beats earnings expectations\", \"text\": \"Apple reported higher than expected Q2 earnings...\"}\n",
    "]\n",
    "\n",
    "def preprocess_news(news):\n",
    "    return [n[\"text\"].lower() for n in news]\n",
    "\n",
    "processed = preprocess_news(news_sample)\n",
    "processed"
   ]
  },
  {
   "cell_type": "code",
   "execution_count": null,
   "metadata": {},
   "outputs": [],
   "source": [
    "# Sentiment Classification (placeholder)\n",
    "def classify_sentiment(text):\n",
    "    return {\"sentiment\": \"positive\", \"score\": 0.8}\n",
    "\n",
    "classified = classify_sentiment(processed[0])\n",
    "classified"
   ]
  },
  {
   "cell_type": "code",
   "execution_count": null,
   "metadata": {},
   "outputs": [],
   "source": [
    "# Entity extraction (placeholder)\n",
    "def extract_entities(text):\n",
    "    return [\"Apple\", \"Q2 earnings\"]\n",
    "\n",
    "entities = extract_entities(processed[0])\n",
    "entities"
   ]
  },
  {
   "cell_type": "code",
   "execution_count": null,
   "metadata": {},
   "outputs": [],
   "source": [
    "# Summarization (placeholder)\n",
    "def summarize(text):\n",
    "    return \"Apple beat Q2 earnings expectations, likely positive market reaction.\"\n",
    "\n",
    "summary = summarize(processed[0])\n",
    "summary"
   ]
  },
  {
   "cell_type": "markdown",
   "metadata": {},
   "source": [
    "## 6. Workflow Pattern 2 – Routing\n",
    "Route input to correct specialized agent."
   ]
  },
  {
   "cell_type": "code",
   "execution_count": null,
   "metadata": {},
   "outputs": [],
   "source": [
    "def router(input_type, data):\n",
    "    if input_type == \"news\":\n",
    "        return classify_sentiment(data)\n",
    "    elif input_type == \"price\":\n",
    "        return \"Quant Agent output\"\n",
    "    elif input_type == \"filing\":\n",
    "        return \"Fundamentals Agent output\"\n",
    "    else:\n",
    "        return \"Unknown input type\"\n",
    "\n",
    "router(\"news\", \"Apple reports record revenue\")"
   ]
  },
  {
   "cell_type": "markdown",
   "metadata": {},
   "source": [
    "## 7. Workflow Pattern 3 – Evaluator–Optimizer\n",
    "Generate analysis → Evaluate → Refine"
   ]
  },
  {
   "cell_type": "code",
   "execution_count": null,
   "metadata": {},
   "outputs": [],
   "source": [
    "# Simple evaluator-optimizer loop\n",
    "def generate_analysis(symbol, signals):\n",
    "    return f\"Analysis for {symbol}: Buy based on signals {signals}\"\n",
    "\n",
    "def evaluate_analysis(analysis):\n",
    "    if \"Buy\" in analysis:\n",
    "        return \"Good, but lacks risk discussion\"\n",
    "    return \"Needs improvement\"\n",
    "\n",
    "def refine_analysis(analysis, feedback):\n",
    "    return analysis + f\" | Refined: {feedback}\"\n",
    "\n",
    "analysis = generate_analysis(\"AAPL\", {\"sentiment\": \"positive\", \"quant\": \"bullish\"})\n",
    "feedback = evaluate_analysis(analysis)\n",
    "refined = refine_analysis(analysis, feedback)\n",
    "refined"
   ]
  },
  {
   "cell_type": "markdown",
   "metadata": {},
   "source": [
    "## 8. Demonstration – End-to-End Run\n",
    "- Choose a stock symbol (e.g., AAPL, TSLA, AMZN)  \n",
    "- Run through all agents and workflows  \n",
    "- Show final investment recommendation with rationale  "
   ]
  },
  {
   "cell_type": "code",
   "execution_count": null,
   "metadata": {},
   "outputs": [],
   "source": [
    "symbol = \"AAPL\"\n",
    "\n",
    "steps = plan_research(symbol)\n",
    "print(\"Planned steps:\", steps)\n",
    "\n",
    "# Price data\n",
    "price_data = yf.download(symbol, period=\"6mo\", interval=\"1d\")\n",
    "price_data[\"Close\"].plot(title=f\"{symbol} Price Trend\")\n",
    "\n",
    "# Run agents (stub example)\n",
    "news_summary = summarize(\"Apple reported strong iPhone sales this quarter.\")\n",
    "sentiment = classify_sentiment(\"Apple reported strong iPhone sales this quarter.\")\n",
    "decision = generate_analysis(symbol, {\"sentiment\": sentiment, \"quant\": \"bullish\"})\n",
    "final_output = refine_analysis(decision, evaluate_analysis(decision))\n",
    "\n",
    "print(\"Final Investment Thesis:\", final_output)"
   ]
  },
  {
   "cell_type": "markdown",
   "metadata": {},
   "source": [
    "## 9. Evaluation & Iteration\n",
    "- Example of system critiquing itself and re-running an agent  \n",
    "- Show before/after outputs  "
   ]
  },
  {
   "cell_type": "markdown",
   "metadata": {},
   "source": [
    "## 10. Conclusion\n",
    "- What worked well  \n",
    "- Challenges  \n",
    "- Future improvements (better data sources, advanced models, memory persistence)  "
   ]
  }
 ],
 "metadata": {
  "kernelspec": {
   "display_name": "Python 3",
   "language": "python",
   "name": "python3"
  },
  "language_info": {
   "codemirror_mode": {
    "name": "ipython",
    "version": 3
   },
   "file_extension": ".py",
   "mimetype": "text/x-python",
   "name": "python",
   "nbconvert_exporter": "python",
   "pygments_lexer": "ipython3",
   "version": "3.11.0"
  }
 },
 "nbformat": 4,
 "nbformat_minor": 5
}
