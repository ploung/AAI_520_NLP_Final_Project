{
 "cells": [
  {
   "cell_type": "markdown",
   "metadata": {},
   "source": [
    "- **Collect:** University of San Diego\n",
    "- **Course:** Natural Language Processing and GenAI (AAI-520)\n",
    "- **Final Project:** Financial Analysis Aystem Powered by Agentic AI\n",
    "- **Professor:** Kahila Mokhtari Jadid\n",
    "- **Team Members:** Pros Loung, Dennis Arpurayil, Divya Kamath \n",
    "- **GitHub Repository:** (https://github.com/ploung/AAI_520_NLP_Final_Project.git)\n",
    "\n"
   ]
  },
  {
   "cell_type": "markdown",
   "id": "bb5760db",
   "metadata": {},
   "source": [
    "# 1. Project Introduction"
   ]
  },
  {
   "cell_type": "markdown",
   "id": "1c5627a8",
   "metadata": {},
   "source": [
    "The project builds a real-world financial analysis system powered by agentic AI. That can reason, plan, and act, coordinating multiple specialized LLM agents to handle complex financial tasks end-to-end. Agentic AI moves beyond scripted flows: it routes tasks, critiques itself, and improves iteratively. The multi-agent stacks parse news, earnings, and market signals at scale."
   ]
  },
  {
   "cell_type": "markdown",
   "id": "8413d946",
   "metadata": {},
   "source": [
    "# 2. Set the enviroment"
   ]
  },
  {
   "cell_type": "code",
   "execution_count": 11,
   "metadata": {},
   "outputs": [],
   "source": [
    "# Uncomment and run the following lines to install necessary packages\n",
    "#!pip install yfinance\n",
    "#!pip install openai\n",
    "#!pip install langchain \n",
    "#!pip install pandas \n",
    "#!pip install numpy \n",
    "#!pip install requests\n",
    "#!pip install langchain-community"
   ]
  },
  {
   "cell_type": "markdown",
   "id": "0ecd2219",
   "metadata": {},
   "source": [
    "# 3. Import libraries"
   ]
  },
  {
   "cell_type": "code",
   "execution_count": 12,
   "id": "b0ffd5c2",
   "metadata": {},
   "outputs": [],
   "source": [
    "import yfinance as yf \n",
    "import requests\n",
    "#import pandas as pd\n",
    "#import matplotlib.pyplot as plt\n",
    "#from datetime import datetime, timedelta"
   ]
  },
  {
   "cell_type": "markdown",
   "id": "e06734b9",
   "metadata": {},
   "source": [
    "# 4. Design Financial Data Retrieval Agent"
   ]
  },
  {
   "cell_type": "code",
   "execution_count": 13,
   "id": "dc877eed",
   "metadata": {},
   "outputs": [
    {
     "name": "stdout",
     "output_type": "stream",
     "text": [
      "AAPL                                  Open        High         Low       Close  \\\n",
      "Date                                                                        \n",
      "2025-08-25 00:00:00-04:00  226.479996  229.300003  226.229996  227.160004   \n",
      "2025-08-26 00:00:00-04:00  226.869995  229.490005  224.690002  229.309998   \n",
      "2025-08-27 00:00:00-04:00  228.610001  230.899994  228.259995  230.490005   \n",
      "2025-08-28 00:00:00-04:00  230.820007  233.410004  229.339996  232.559998   \n",
      "2025-08-29 00:00:00-04:00  232.509995  233.380005  231.369995  232.139999   \n",
      "\n",
      "                             Volume  Dividends  Stock Splits  \n",
      "Date                                                          \n",
      "2025-08-25 00:00:00-04:00  30983100        0.0           0.0  \n",
      "2025-08-26 00:00:00-04:00  54575100        0.0           0.0  \n",
      "2025-08-27 00:00:00-04:00  31259500        0.0           0.0  \n",
      "2025-08-28 00:00:00-04:00  38074700        0.0           0.0  \n",
      "2025-08-29 00:00:00-04:00  39418400        0.0           0.0   \n",
      "\n",
      "MSFT                                  Open        High         Low       Close  \\\n",
      "Date                                                                        \n",
      "2025-08-25 00:00:00-04:00  506.630005  508.190002  504.119995  504.260010   \n",
      "2025-08-26 00:00:00-04:00  504.359985  504.980011  498.510010  502.040009   \n",
      "2025-08-27 00:00:00-04:00  502.000000  507.290009  499.899994  506.739990   \n",
      "2025-08-28 00:00:00-04:00  507.089996  511.089996  505.500000  509.640015   \n",
      "2025-08-29 00:00:00-04:00  508.660004  509.600006  504.489990  506.690002   \n",
      "\n",
      "                             Volume  Dividends  Stock Splits  \n",
      "Date                                                          \n",
      "2025-08-25 00:00:00-04:00  21638600        0.0           0.0  \n",
      "2025-08-26 00:00:00-04:00  30835700        0.0           0.0  \n",
      "2025-08-27 00:00:00-04:00  17277900        0.0           0.0  \n",
      "2025-08-28 00:00:00-04:00  18015600        0.0           0.0  \n",
      "2025-08-29 00:00:00-04:00  20961600        0.0           0.0   \n",
      "\n",
      "GOOGL                                  Open        High         Low       Close  \\\n",
      "Date                                                                        \n",
      "2025-08-25 00:00:00-04:00  206.245524  210.331880  205.096557  208.303696   \n",
      "2025-08-26 00:00:00-04:00  207.324560  207.664267  205.516179  206.954895   \n",
      "2025-08-27 00:00:00-04:00  205.516178  208.723316  205.466220  207.294586   \n",
      "2025-08-28 00:00:00-04:00  207.064805  212.030366  206.715112  211.450882   \n",
      "2025-08-29 00:00:00-04:00  210.321877  214.458177  210.012157  212.719742   \n",
      "\n",
      "                             Volume  Dividends  Stock Splits  \n",
      "Date                                                          \n",
      "2025-08-25 00:00:00-04:00  29928900        0.0           0.0  \n",
      "2025-08-26 00:00:00-04:00  28464100        0.0           0.0  \n",
      "2025-08-27 00:00:00-04:00  23022900        0.0           0.0  \n",
      "2025-08-28 00:00:00-04:00  32339300        0.0           0.0  \n",
      "2025-08-29 00:00:00-04:00  39728400        0.0           0.0   \n",
      "\n",
      "AMZN                                  Open        High         Low       Close  \\\n",
      "Date                                                                        \n",
      "2025-08-25 00:00:00-04:00  227.350006  229.600006  227.309998  227.940002   \n",
      "2025-08-26 00:00:00-04:00  227.110001  229.000000  226.020004  228.710007   \n",
      "2025-08-27 00:00:00-04:00  228.570007  229.869995  227.809998  229.119995   \n",
      "2025-08-28 00:00:00-04:00  229.009995  232.710007  228.020004  231.600006   \n",
      "2025-08-29 00:00:00-04:00  231.320007  231.809998  228.160004  229.000000   \n",
      "\n",
      "                             Volume  Dividends  Stock Splits  \n",
      "Date                                                          \n",
      "2025-08-25 00:00:00-04:00  22633700        0.0           0.0  \n",
      "2025-08-26 00:00:00-04:00  26105400        0.0           0.0  \n",
      "2025-08-27 00:00:00-04:00  21254500        0.0           0.0  \n",
      "2025-08-28 00:00:00-04:00  33679600        0.0           0.0  \n",
      "2025-08-29 00:00:00-04:00  26199200        0.0           0.0   \n",
      "\n",
      "TSLA                                  Open        High         Low       Close  \\\n",
      "Date                                                                        \n",
      "2025-08-25 00:00:00-04:00  338.899994  349.529999  335.029999  346.600006   \n",
      "2025-08-26 00:00:00-04:00  344.929993  351.899994  343.720001  351.670013   \n",
      "2025-08-27 00:00:00-04:00  351.940002  355.390015  349.160004  349.600006   \n",
      "2025-08-28 00:00:00-04:00  350.910004  353.549988  340.260010  345.980011   \n",
      "2025-08-29 00:00:00-04:00  347.230011  348.750000  331.700012  333.869995   \n",
      "\n",
      "                             Volume  Dividends  Stock Splits  \n",
      "Date                                                          \n",
      "2025-08-25 00:00:00-04:00  86670000        0.0           0.0  \n",
      "2025-08-26 00:00:00-04:00  76651600        0.0           0.0  \n",
      "2025-08-27 00:00:00-04:00  65519000        0.0           0.0  \n",
      "2025-08-28 00:00:00-04:00  67903200        0.0           0.0  \n",
      "2025-08-29 00:00:00-04:00  81145700        0.0           0.0   \n",
      "\n",
      "NVDA                                  Open        High         Low       Close  \\\n",
      "Date                                                                        \n",
      "2025-08-25 00:00:00-04:00  178.339957  181.899753  176.560058  179.799866   \n",
      "2025-08-26 00:00:00-04:00  180.049840  182.379711  178.799911  181.759750   \n",
      "2025-08-27 00:00:00-04:00  181.969736  182.479717  179.089908  181.589767   \n",
      "2025-08-28 00:00:00-04:00  180.809808  184.459596  176.400053  180.159836   \n",
      "2025-08-29 00:00:00-04:00  178.099952  178.139943  173.140225  174.170166   \n",
      "\n",
      "                              Volume  Dividends  Stock Splits  \n",
      "Date                                                           \n",
      "2025-08-25 00:00:00-04:00  163012800        0.0           0.0  \n",
      "2025-08-26 00:00:00-04:00  168688200        0.0           0.0  \n",
      "2025-08-27 00:00:00-04:00  235518900        0.0           0.0  \n",
      "2025-08-28 00:00:00-04:00  281787800        0.0           0.0  \n",
      "2025-08-29 00:00:00-04:00  243257900        0.0           0.0   \n",
      "\n",
      "META                                  Open        High         Low       Close  \\\n",
      "Date                                                                        \n",
      "2025-08-25 00:00:00-04:00  754.820007  758.880005  750.130005  753.299988   \n",
      "2025-08-26 00:00:00-04:00  750.799988  754.869995  747.940002  754.099976   \n",
      "2025-08-27 00:00:00-04:00  752.299988  754.150024  742.840027  747.380005   \n",
      "2025-08-28 00:00:00-04:00  744.000000  753.049988  740.799988  751.109985   \n",
      "2025-08-29 00:00:00-04:00  745.280029  747.140015  735.349976  738.700012   \n",
      "\n",
      "                            Volume  Dividends  Stock Splits  \n",
      "Date                                                         \n",
      "2025-08-25 00:00:00-04:00  6861200        0.0           0.0  \n",
      "2025-08-26 00:00:00-04:00  7601800        0.0           0.0  \n",
      "2025-08-27 00:00:00-04:00  8315400        0.0           0.0  \n",
      "2025-08-28 00:00:00-04:00  7468000        0.0           0.0  \n",
      "2025-08-29 00:00:00-04:00  9070500        0.0           0.0   \n",
      "\n"
     ]
    }
   ],
   "source": [
    "# Define stock list to fetch data for and analyze\n",
    "stock_list = [\"AAPL\", \"MSFT\", \"GOOGL\", \"AMZN\", \"TSLA\", \"NVDA\", \"META\"]\n",
    "\n",
    "# Create a function to fetch stock data\n",
    "def fetch_stock_data(symbol):\n",
    "    stock = yf.Ticker(symbol)\n",
    "    return stock.history(period=\"1mo\")\n",
    "\n",
    "# Example usage\n",
    "stock_result = list(map(fetch_stock_data, stock_list)) # Fetch data for all stocks in the list\n",
    "\n",
    "# Display stock history data\n",
    "for stock, stock_data in zip(stock_list, stock_result):\n",
    "    print(stock, stock_data.head(), \"\\n\")  # Print the first few rows of each stock's data\n"
   ]
  },
  {
   "cell_type": "markdown",
   "id": "31fb09e6",
   "metadata": {},
   "source": [
    "# 5. Design News Retrieval and Processing Agent"
   ]
  },
  {
   "cell_type": "code",
   "execution_count": 14,
   "id": "17cc37ef",
   "metadata": {},
   "outputs": [],
   "source": [
    "import requests\n",
    "\n",
    "def get_news(symbol, api_key):\n",
    "    url = f\"https://newsapi.org/v2/everything?q={symbol}&apiKey={api_key}\"\n",
    "    response = requests.get(url)\n",
    "    articles = response.json()[\"articles\"]\n",
    "    return [article[\"content\"] for article in articles]\n",
    "\n",
    "def preprocess_news(news_list):\n",
    "    return [news.lower().replace(\"\\n\", \" \") for news in news_list]"
   ]
  },
  {
   "cell_type": "code",
   "execution_count": 15,
   "id": "5ab85bca",
   "metadata": {},
   "outputs": [
    {
     "name": "stdout",
     "output_type": "stream",
     "text": [
      "\n",
      "News for AAPL:\n",
      "1. let's turn now to our stock of the day. apple's new iphone 17 and iphone air are officially availabl...\n",
      " first up, markets are looking to start the week in the gr...\n",
      "3. yahoo finance's john hyland tracks tuesday's top moving stocks and biggest market stories in this ma...\n",
      "\n",
      "News for MSFT:\n",
      "1. big data refers to a vast and diverse collection of structured, unstructured and semi-structured dat...\n",
      "2. d-wave quantum qbts and rigetti computing rgti are stepping into the spotlight as speculative pure p...\n",
      "3. shares of voice ai technology company soundhound ai (nasdaq:soun) jumped 7% in the afternoon session...\n",
      "\n",
      "News for GOOGL:\n",
      "1. 08 september 2025, bavaria, munich: the google brand logo (logo, symbol, emblem) can be seen at the ...\n",
      "2. ionq (ionq) is a pioneering quantum computing company driving the industry forward with its advanced...\n",
      "3. the year 2025 has been tricky for google parent alphabet  (googl) and its patient investors, but the...\n",
      "\n",
      "News for AMZN:\n",
      "1. ankara, turkiye - november 14: in this photo illustration, logo of 'amazon' is displayed on a mobile...\n",
      "2. ionq (ionq) is a pioneering quantum computing company driving the industry forward with its advanced...\n",
      "...at the heart of todays market rally are seven companies worth more than most nations' gdp combined.\n",
      "\n",
      "News for TSLA:\n",
      "1. now time for some of today's trending tickers. we are watching shares of tesla, gold miners and mcdo...\n",
      "2. nio inc. nio has started sending its third-generation es8 electric suvs to delivery centers across c...\n",
      " apple intro...d a thinner iphone at an event this week.\n",
      "\n",
      "News for NVDA:\n",
      "1. this is the ft, riva saying china banning its companies from buying some of nvidia's chips. uh looki...\n",
      "2. wall street is narrowing in on must-watch tech giant nvidia (nvda) this week, as the $4 trillion sem...\n",
      "3. it's been a volatile year for shares of nvidia, with the stock plunging 31% to start the year before...\n",
      "\n",
      "News for META:\n",
      " the legendary filmmaker and meta cto andrew bosworth talk abou...\n",
      " the horizon engine powers better graphics for metas horizon wo...\n",
      " youll be able to try on (and buy) meta ray-ban display on sept...\n"
     ]
    }
   ],
   "source": [
    "stock_news_dict = {}\n",
    "api_key = \"529848f53e0f4767b2a82dbd288dd370\"  # Replace with your NewsAPI key\n",
    "\n",
    "for symbol in stock_list:\n",
    "    raw_news = get_news(symbol, api_key)\n",
    "    cleaned_news = preprocess_news(raw_news)\n",
    "    stock_news_dict[symbol] = cleaned_news\n",
    "\n",
    "# Display the news articles for a specific stock symbol\n",
    "for symbol, news_items in stock_news_dict.items():\n",
    "    print(f\"\\nNews for {symbol}:\")\n",
    "    for i, item in enumerate(news_items[:3]):  # Show first 3 articles\n",
    "        print(f\"{i+1}. {item[:100]}...\")  # Preview first 100 characters"
   ]
  },
  {
   "cell_type": "markdown",
   "id": "036445b7",
   "metadata": {},
   "source": [
    "# 6. Prompt Chaining"
   ]
  },
  {
   "cell_type": "code",
   "execution_count": 16,
   "id": "a7483f91",
   "metadata": {},
   "outputs": [],
   "source": [
    "from langchain.chains import LLMChain\n",
    "from langchain.llms import OpenAI\n",
    "from langchain.prompts import PromptTemplate\n",
    "openai_llm = OpenAI(openai_api_key=\"YOUR_API_KEY\")  # Replace with your actual OpenAI API key\n",
    "\n",
    "template = PromptTemplate(input_variables=[\"text\"], template=\"Classify this financial news: {text}\")\n",
    "# chain = LLMChain(prompt=template, llm=your_llm)\n",
    "chain = LLMChain(prompt=template, llm=openai_llm)  # Replace with actual LLM instance\n",
    "\n",
    "def classify_news(news_list):\n",
    "    return [chain.run(text=news) for news in news_list]\n",
    "\n",
    "#classified_news = classify_news(preprocess_news(get_news(\"AAPL\", \"YOUR_NEWSAPI_KEY\")))  # Replace with your actual NewsAPI key"
   ]
  },
  {
   "cell_type": "markdown",
   "id": "727058cf",
   "metadata": {},
   "source": [
    "# 7. Routing Logic Agent"
   ]
  },
  {
   "cell_type": "code",
   "execution_count": 17,
   "id": "d36f01c4",
   "metadata": {},
   "outputs": [],
   "source": [
    "def route_content(classification):\n",
    "    if \"earnings\" in classification:\n",
    "        return \"Earnings Analyzer\"\n",
    "    elif \"market\" in classification:\n",
    "        return \"Market Analyzer\"\n",
    "    else:\n",
    "        return \"General News Analyzer\""
   ]
  },
  {
   "cell_type": "markdown",
   "id": "9fef6c47",
   "metadata": {},
   "source": [
    "# 7. Evaluator Optimizer"
   ]
  },
  {
   "cell_type": "code",
   "execution_count": 18,
   "id": "22166021",
   "metadata": {},
   "outputs": [],
   "source": [
    "def evaluate_output(output):\n",
    "    score = len(output)  # Placeholder for actual scoring logic\n",
    "    return score\n",
    "\n",
    "def optimize_output(output, score):\n",
    "    if score < 100:\n",
    "        return output + \" [Refined]\"\n",
    "    return output"
   ]
  },
  {
   "cell_type": "markdown",
   "id": "f1df770a",
   "metadata": {},
   "source": [
    "# 8. Memory Across Runs"
   ]
  },
  {
   "cell_type": "code",
   "execution_count": 19,
   "id": "3a4ee21a",
   "metadata": {},
   "outputs": [],
   "source": [
    "memory_log = []\n",
    "\n",
    "def store_memory(note):\n",
    "    memory_log.append(note)\n",
    "\n",
    "def retrieve_memory():\n",
    "    return memory_log[-3:]  # Last 3 notes"
   ]
  },
  {
   "cell_type": "markdown",
   "metadata": {},
   "source": [
    "## 9. Evaluation & Iteration\n",
    "- Example of system critiquing itself and re-running an agent  \n",
    "- Show before/after outputs  "
   ]
  },
  {
   "cell_type": "markdown",
   "metadata": {},
   "source": [
    "## 10. Conclusion\n",
    "- What worked well  \n",
    "- Challenges  \n",
    "- Future improvements (better data sources, advanced models, memory persistence)  "
   ]
  }
 ],
 "metadata": {
  "kernelspec": {
   "display_name": "Python 3",
   "language": "python",
   "name": "python3"
  },
  "language_info": {
   "codemirror_mode": {
    "name": "ipython",
    "version": 3
   },
   "file_extension": ".py",
   "mimetype": "text/x-python",
   "name": "python",
   "nbconvert_exporter": "python",
   "pygments_lexer": "ipython3",
   "version": "3.11.0"
  }
 },
 "nbformat": 4,
 "nbformat_minor": 5
}
